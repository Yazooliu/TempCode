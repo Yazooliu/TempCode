{
 "cells": [
  {
   "cell_type": "markdown",
   "metadata": {},
   "source": [
    "1.若有一个jsonline格式的文件file.txt，大小约为10K"
   ]
  },
  {
   "cell_type": "code",
   "execution_count": 108,
   "metadata": {},
   "outputs": [],
   "source": [
    "def ReadFilesFromLocal():\n",
    "    outputlist  = []\n",
    "    with open(\"./data/stopwords.txt\",'rb') as f1:\n",
    "        for line in f1:\n",
    "            outputlist.append(line)\n",
    "    return outputlist\n",
    "output = ReadFilesFromLocal()\n",
    "for line in output:\n",
    "    #print line\n",
    "    pass"
   ]
  },
  {
   "cell_type": "markdown",
   "metadata": {},
   "source": [
    "2 读取文件并加入jieba分词处理"
   ]
  },
  {
   "cell_type": "code",
   "execution_count": 102,
   "metadata": {},
   "outputs": [],
   "source": [
    "import jieba\n",
    "def ReadFile():\n",
    "    Readlist = []\n",
    "    with open(\"./data/stopwords.txt\",'rb') as f:\n",
    "        reading     = f.read()\n",
    "        jiebacu     = jieba.lcut(reading)\n",
    "        reading_cut = \" \".join(jiebacu)\n",
    "        reading_cut.encode(\"utf-8\")\n",
    "        Readlist.append(reading_cut)\n",
    "    return Readlist\n",
    "\n",
    "Readlist = ReadFile()\n",
    "for e in Readlist:\n",
    "    #print e\n",
    "    pass"
   ]
  },
  {
   "cell_type": "markdown",
   "metadata": {},
   "source": [
    "3.现在要处理一个大小为10G的file.txt文件，但是内存只有4G。如果在只修改get_lines 函数而其他代码保持不变的情况下，应该如何实现？需要考虑的问题都有那些？"
   ]
  },
  {
   "cell_type": "code",
   "execution_count": 183,
   "metadata": {},
   "outputs": [
    {
     "data": {
      "text/plain": [
       "<generator object ReadBigData at 0x000000000B687948>"
      ]
     },
     "execution_count": 183,
     "metadata": {},
     "output_type": "execute_result"
    }
   ],
   "source": [
    "def ReadBigData(N):\n",
    "    L = []\n",
    "    n = 0\n",
    "    while n <N:\n",
    "        n = n+1\n",
    "        with open(\"./data/stopwords.txt\",\"rb\") as f2:\n",
    "            L.append(f2.readlines(2))  # 批量读入文件\n",
    "            yield L # 生成器来批量载入数据，节省内存\n",
    "ReadBigData(3)     "
   ]
  },
  {
   "cell_type": "markdown",
   "metadata": {},
   "source": [
    "4,利用代码生成斐波那契數列 :除了第一个和第二个是0 和1 以外，其他数值都是前面两个数值的和"
   ]
  },
  {
   "cell_type": "code",
   "execution_count": 344,
   "metadata": {},
   "outputs": [
    {
     "data": {
      "text/plain": [
       "<generator object FeiBoNaQieArray at 0x000000000B62EF78>"
      ]
     },
     "execution_count": 344,
     "metadata": {},
     "output_type": "execute_result"
    }
   ],
   "source": [
    "def FeiBoNaQieArray(N):\n",
    "    n,a,b = 0,0,1\n",
    "    while n<N:\n",
    "        a,b = b,a + b\n",
    "        yield b\n",
    "        n = n + 1\n",
    "\n",
    "#L = FeiBoNaQieArray(12)\n",
    "#import numpy\n",
    "#Lsum = numpy.sum(L,axis=0) # 对所有数列求和\n",
    "Data = FeiBoNaQieArray(12)\n",
    "Data.next() # 生成器逐个输出"
   ]
  },
  {
   "cell_type": "markdown",
   "metadata": {},
   "source": [
    "5.简述read,readline,readlines的区别\n",
    "\n"
   ]
  },
  {
   "cell_type": "code",
   "execution_count": 188,
   "metadata": {},
   "outputs": [],
   "source": [
    "# read(size):从开始位置读取size大小的字节，如果read()，读取到文件最后\n",
    "# readline():每次读取一行数据,节省内存,适合大文件的读取\n",
    "# readlines(): 读取所有文本数据,存在一个list中，每个list元素存一行文本数据,比较占内存"
   ]
  },
  {
   "cell_type": "markdown",
   "metadata": {},
   "source": [
    "6.如何输入日期， 判断这一天是这一年的第几天？"
   ]
  },
  {
   "cell_type": "code",
   "execution_count": 210,
   "metadata": {},
   "outputs": [
    {
     "name": "stdout",
     "output_type": "stream",
     "text": [
      "6L6T5YWl5pyI5Lu9\n",
      "12\n",
      "6L6T5YWl5pel5pyf\n",
      "12\n"
     ]
    },
    {
     "data": {
      "text/plain": [
       "347"
      ]
     },
     "execution_count": 210,
     "metadata": {},
     "output_type": "execute_result"
    }
   ],
   "source": [
    "import datetime\n",
    "def CheckDate():\n",
    "    today_date  = datetime.date.today()\n",
    "    #year = input(\"输入年份:\")\n",
    "    year  = 2020\n",
    "    month = input(\"输入月份\")\n",
    "    day   = input(\"输入日期\")\n",
    "    date1 = datetime.date(year = int(year),month = int(month),day = int(day))\n",
    "    date2 = datetime.date(year = int(year),month = 1,day = 1)\n",
    "    return (date1 - date2).days + 1\n",
    "\n",
    "CheckDate()"
   ]
  },
  {
   "cell_type": "markdown",
   "metadata": {},
   "source": [
    "7.如何实现字符串的反转"
   ]
  },
  {
   "cell_type": "code",
   "execution_count": 214,
   "metadata": {},
   "outputs": [
    {
     "data": {
      "text/plain": [
       "'nohtyp ni gnirts eno si sihT'"
      ]
     },
     "execution_count": 214,
     "metadata": {},
     "output_type": "execute_result"
    }
   ],
   "source": [
    "\"This is one string in python\"[::-1]"
   ]
  },
  {
   "cell_type": "markdown",
   "metadata": {},
   "source": [
    "8.如何反转一个整数 -123->-321"
   ]
  },
  {
   "cell_type": "code",
   "execution_count": 222,
   "metadata": {},
   "outputs": [],
   "source": [
    "# only aviable in Python3.x, not success inpython2.x\n",
    "def reverback(x):\n",
    "    x = int(str(x)[::-1]) if x>= 0 else -int(str(-x)[::-1])\n",
    "    return x if x<= 2**31 -1  and x>-2**31 else 0"
   ]
  },
  {
   "cell_type": "markdown",
   "metadata": {},
   "source": [
    "9.lambda,map,filter 的使用"
   ]
  },
  {
   "cell_type": "code",
   "execution_count": 265,
   "metadata": {},
   "outputs": [
    {
     "name": "stdout",
     "output_type": "stream",
     "text": [
      "偶数\n"
     ]
    },
    {
     "data": {
      "text/plain": [
       "[0, 2, 4, 6, 8, 10]"
      ]
     },
     "execution_count": 265,
     "metadata": {},
     "output_type": "execute_result"
    }
   ],
   "source": [
    "lambdasum = lambda x,y:x+y\n",
    "f11 = lambda x:\"偶数\" if x%2==0 else \"奇数\"\n",
    "print f11(2)\n",
    "lambdasum(2.12,4.2)\n",
    "\n",
    "#map(function,sequence)\n",
    "map(lambda x:x**2,[y for y in range(4)])\n",
    "\n",
    "#filter\n",
    "filter(lambda x:x%2== 0,[y for y in range(12)])\n",
    "\n",
    "# for ....in... if \n",
    "list(x for x in range(12) if x%2==0)"
   ]
  },
  {
   "cell_type": "markdown",
   "metadata": {},
   "source": [
    "10.以下代码会报错吗？"
   ]
  },
  {
   "cell_type": "code",
   "execution_count": 279,
   "metadata": {},
   "outputs": [
    {
     "name": "stdout",
     "output_type": "stream",
     "text": [
      "[]\n"
     ]
    }
   ],
   "source": [
    "list = ['a','b','c','d','e']\n",
    "print(list[10:]) # 返回[]空\n",
    "#print(list[10]) # 报错"
   ]
  },
  {
   "cell_type": "markdown",
   "metadata": {},
   "source": [
    "11. 删除列表中的重复元素"
   ]
  },
  {
   "cell_type": "code",
   "execution_count": 281,
   "metadata": {},
   "outputs": [],
   "source": [
    "rawlist = ['b','c','d','c','a','a']\n",
    "seta = set(rawlist) # 通过结合set 去掉重复\n",
    "setalist = list(seta) # success in python 3.x"
   ]
  },
  {
   "cell_type": "markdown",
   "metadata": {},
   "source": [
    "11. 删除列表中的重复元素 - 请写出一段Python代码实现删除一个list里面的重复元素(3.9)"
   ]
  },
  {
   "cell_type": "code",
   "execution_count": 287,
   "metadata": {},
   "outputs": [
    {
     "name": "stdout",
     "output_type": "stream",
     "text": [
      "['b', 'c', 'd', 'a']\n"
     ]
    }
   ],
   "source": [
    "def RemoveDepulicateItem():\n",
    "    rawlist = ['b','c','d','c','a','a']\n",
    "    setalist = []\n",
    "    for i in rawlist:\n",
    "        if i not in setalist:\n",
    "            setalist.append(i)\n",
    "    print setalist  "
   ]
  },
  {
   "cell_type": "markdown",
   "metadata": {},
   "source": [
    "12.set() 函数创建一个无序不重复元素集，可进行关系测试，删除重复数据，还可以计算交集、差集、并集等。"
   ]
  },
  {
   "cell_type": "code",
   "execution_count": 285,
   "metadata": {},
   "outputs": [
    {
     "data": {
      "text/plain": [
       "{'B', 'G', 'a', 'd', 'e', 'g', 'i', 'l', 'o', 'u'}"
      ]
     },
     "execution_count": 285,
     "metadata": {},
     "output_type": "execute_result"
    }
   ],
   "source": [
    "set(\"Baidu\")&set(\"Google\")\n",
    "set(\"Baidu\")|set(\"Google\")"
   ]
  },
  {
   "cell_type": "markdown",
   "metadata": {},
   "source": [
    "13.设计实现遍历目录与子目录，抓取.pyc文件"
   ]
  },
  {
   "cell_type": "code",
   "execution_count": 318,
   "metadata": {},
   "outputs": [
    {
     "data": {
      "text/plain": [
       "['C:\\\\AI\\\\github\\\\Ai_Lab_\\\\TempCode\\\\sourcedata\\\\data\\\\Bag_of_Words_model.csv',\n",
       " 'C:\\\\AI\\\\github\\\\Ai_Lab_\\\\TempCode\\\\sourcedata\\\\data\\\\sampleSubmission.csv']"
      ]
     },
     "execution_count": 318,
     "metadata": {},
     "output_type": "execute_result"
    }
   ],
   "source": [
    "import os\n",
    "path = r'C:\\AI\\github\\Ai_Lab_\\TempCode\\sourcedata\\data'\n",
    "targetfile  =[]\n",
    "target_format = '.csv'\n",
    "for rootpath,dirs,files in os.walk(path): # rootpath - current path, files - all files in path \n",
    "    for file in files:\n",
    "        #print os.path.join(rootpath,filename)\n",
    "        file_name,file_format = os.path.splitext(file)\n",
    "        \n",
    "        if file_format == target_format:\n",
    "            targetfile.append(os.path.join(rootpath,file))\n",
    "\n",
    "targetfile"
   ]
  },
  {
   "cell_type": "markdown",
   "metadata": {},
   "source": [
    "14.对设计模式的理解，简述你了解的设计模式？"
   ]
  },
  {
   "cell_type": "code",
   "execution_count": null,
   "metadata": {},
   "outputs": [],
   "source": [
    "\"设计模式是为我们经常会碰到的一些编程问题构建的可重用解决方案，它是总结性和经优化的。\n",
    "\"一个设计模式并不像一个类或一个库那样能够直接作用于我们的代码，\n",
    "反之，设计模式更为高级，它是一种在特定情形下实现的方法模板。\n",
    "常见的是工厂模式和单例模式。\n",
    "单例模式应用的场景一般发现在以下条件下：\n",
    "资源共享的情况下，避免由于资源操作时导致的性能或损耗等，如日志文件，应用配置。\n",
    "\"控制资源的情况下，方便资源之间的互相通信\""
   ]
  },
  {
   "cell_type": "markdown",
   "metadata": {},
   "source": [
    "15.生成器和迭代器的区别"
   ]
  },
  {
   "cell_type": "code",
   "execution_count": null,
   "metadata": {},
   "outputs": [],
   "source": [
    "生成器:创建迭代器的工具，只在返回数据的时候才通过yield语句来生成，由于创建了iter和next方法，生成器显的简洁。\n",
    "生成器在处理列表是可以节省内存，兵器在生成器终结时才主动抛出异常\n",
    "迭代器:迭代器是一个更抽象的概念，任何对象，如果它的类有 next 方法和 iter 方法返回自己本身，它就是可迭代的。\n",
    "对于 string、list、dict、tuple 等这类容器对象，使用for循环遍历是很方便的，for 语句实际上会对容器对象调用 iter() 函数。\n",
    "iter() 会返回一个定义了 next() 方法的迭代器对象，它在容器中逐个访问容器内元素，在没有后续元素时，next()会抛出一个StopIteration异常。"
   ]
  },
  {
   "cell_type": "markdown",
   "metadata": {},
   "source": [
    "16.对装饰器的理解，你能写出一个计时器装饰器，它能记录函数的执行时间吗？"
   ]
  },
  {
   "cell_type": "code",
   "execution_count": 360,
   "metadata": {},
   "outputs": [
    {
     "name": "stdout",
     "output_type": "stream",
     "text": [
      "生成斐波纳挈数列的...\n",
      "运行时间: 12.0859999657 secs\n"
     ]
    }
   ],
   "source": [
    "def NewFeiBoNaQieArray(Max):\n",
    "    a,b,n = 0,1,0\n",
    "    while n<Max:\n",
    "        a,b = b,a + b\n",
    "        n = n + 1\n",
    "    return b\n",
    "\n",
    "import time\n",
    "def timeit(func):\n",
    "    def InnerFuncton(*args,**kwargs):\n",
    "        start = time.time()\n",
    "        func(*args,**kwargs) # 适应多种函数 - 先执行TimeImplement,再执行InnerFuncton\n",
    "        end   = time.time()\n",
    "        print \"运行时间:\", end - start ,\"secs\"\n",
    "    return InnerFuncton\n",
    "\n",
    "@timeit\n",
    "def TimeImplement():\n",
    "    NewFeiBoNaQieArray(1e6)\n",
    "    print \"生成斐波纳挈数列的...\"\n",
    "\n",
    "TimeImplement()"
   ]
  },
  {
   "cell_type": "markdown",
   "metadata": {},
   "source": [
    "17.程序运行在操作系统上的一个实例，就称之为进程。进程需要相应的系统资源：内存、时间片、pid。\n",
    "创建进程： 首先要导入multiprocessing中的Process；创建一个Process对象；创建Process对象时，可以传递参数"
   ]
  },
  {
   "cell_type": "code",
   "execution_count": 379,
   "metadata": {},
   "outputs": [],
   "source": [
    "import os \n",
    "from multiprocessing import Process\n",
    "import time\n",
    "# __init__(self, group=None, target=None, name=None, args=(), kwargs={})\n",
    "def func(name,age,**kwargs):\n",
    "    for i in range(5):\n",
    "        print(\"子进程正在运行中，name=%s,age=%d,pid=%d\" %(name, age, os.getpid()))\n",
    "        print(kwargs)\n",
    "        time.sleep(0.2)\n",
    "\n",
    "if __name__ == \"__main__\":\n",
    "    p = Process(target = func,name =None,args = (\"Name\",19), kwargs = {\"M\":29})\n",
    "    p.start()\n",
    "    time.sleep(1)\n",
    "    p.terminate\n",
    "    p.join()"
   ]
  },
  {
   "cell_type": "markdown",
   "metadata": {},
   "source": [
    "18.python 常见的列表推导式"
   ]
  },
  {
   "cell_type": "code",
   "execution_count": 393,
   "metadata": {},
   "outputs": [
    {
     "data": {
      "text/plain": [
       "[0, 1, 4, 16, 25, 36, 49, 64, 81]"
      ]
     },
     "execution_count": 393,
     "metadata": {},
     "output_type": "execute_result"
    }
   ],
   "source": [
    "# 1. for....in....if \n",
    "x = [x**2 for x in range(10) if x%2 == 0] # 列表推导式\n",
    "\n",
    "def squre2(x):\n",
    "    return x**2\n",
    "y = [squre2(y) for y in range(10) if y>=0 and y!=3 ]\n",
    "y\n",
    "\n",
    "[(x,y) for x in range(10) if  x !=2 for y in range(10) if y%2 == 0]"
   ]
  },
  {
   "cell_type": "markdown",
   "metadata": {},
   "source": [
    "19.python 常见的生成器推导式"
   ]
  },
  {
   "cell_type": "code",
   "execution_count": 405,
   "metadata": {},
   "outputs": [
    {
     "name": "stdout",
     "output_type": "stream",
     "text": [
      "<type 'generator'>\n"
     ]
    }
   ],
   "source": [
    "multi = (x for x in range(10) if x%2 == 0)\n",
    "print type(multi)\n",
    "# 遍历生成器序列\n",
    "for i in multi:\n",
    "    #print(i)\n",
    "    pass"
   ]
  },
  {
   "cell_type": "markdown",
   "metadata": {},
   "source": [
    "20.python 字典推导式"
   ]
  },
  {
   "cell_type": "code",
   "execution_count": 488,
   "metadata": {},
   "outputs": [],
   "source": [
    "multi = {x for x in range(10) if x%2 == 0}"
   ]
  },
  {
   "cell_type": "markdown",
   "metadata": {},
   "source": [
    "21.python 集合推导式"
   ]
  },
  {
   "cell_type": "code",
   "execution_count": 410,
   "metadata": {},
   "outputs": [],
   "source": [
    "multi = (x for x in range(10) if x%2 == 0)"
   ]
  },
  {
   "cell_type": "markdown",
   "metadata": {},
   "source": [
    "22.写一个列表生成式，产生一个公差为11的等差数列"
   ]
  },
  {
   "cell_type": "code",
   "execution_count": 411,
   "metadata": {},
   "outputs": [],
   "source": [
    "a0 = 1\n",
    "d  = 11\n",
    "an = [a0+(n-1)*d for n in range(100)]"
   ]
  },
  {
   "cell_type": "markdown",
   "metadata": {},
   "source": [
    "23.给定两个列表，怎么找出他们相同的元素和不同的元素?"
   ]
  },
  {
   "cell_type": "code",
   "execution_count": 452,
   "metadata": {},
   "outputs": [
    {
     "data": {
      "text/plain": [
       "['c', '3', '2', 's']"
      ]
     },
     "execution_count": 452,
     "metadata": {},
     "output_type": "execute_result"
    }
   ],
   "source": [
    "list1 = ['a','c','d','3','2','w','s']\n",
    "list2 = ['c','3','9','k','2','s']\n",
    "same = [x for x in list1 if x in list2]\n",
    "same"
   ]
  },
  {
   "cell_type": "code",
   "execution_count": 446,
   "metadata": {},
   "outputs": [
    {
     "data": {
      "text/plain": [
       "['a', 'd', 'w']"
      ]
     },
     "execution_count": 446,
     "metadata": {},
     "output_type": "execute_result"
    }
   ],
   "source": [
    "diff1= [x for x in list1 if x not in list2]\n",
    "diff1"
   ]
  },
  {
   "cell_type": "code",
   "execution_count": 503,
   "metadata": {},
   "outputs": [],
   "source": [
    "diff2= [x for x in list2 if x not in list1]"
   ]
  },
  {
   "cell_type": "markdown",
   "metadata": {},
   "source": [
    "24.打乱一个排好序的list对象 alist？"
   ]
  },
  {
   "cell_type": "code",
   "execution_count": 469,
   "metadata": {},
   "outputs": [
    {
     "data": {
      "text/plain": [
       "[55, 85, 50, 20, 80, 75, 95, 30, 90, 0, 10, 15, 45, 70, 5, 25, 65, 40, 60, 35]"
      ]
     },
     "execution_count": 469,
     "metadata": {},
     "output_type": "execute_result"
    }
   ],
   "source": [
    "import random\n",
    "listorder = [x for x in range(100) if x%5==0]\n",
    "random.shuffle(listorder)\n",
    "listorder"
   ]
  },
  {
   "cell_type": "code",
   "execution_count": 476,
   "metadata": {},
   "outputs": [
    {
     "data": {
      "text/plain": [
       "[95, 90, 85, 80, 75, 70, 65, 60, 55, 50, 45, 40, 35, 30, 25, 20, 15, 10, 5, 0]"
      ]
     },
     "execution_count": 476,
     "metadata": {},
     "output_type": "execute_result"
    }
   ],
   "source": [
    "sorted(listorder,reverse=True)"
   ]
  },
  {
   "cell_type": "markdown",
   "metadata": {},
   "source": [
    "25.现有字典 d={‘a’:24，‘g’:52，‘i’:12，‘k’:33}请按value值进行排序"
   ]
  },
  {
   "cell_type": "code",
   "execution_count": 497,
   "metadata": {},
   "outputs": [
    {
     "data": {
      "text/plain": [
       "[('i', 12), ('a', 24), ('k', 33), ('g', 52)]"
      ]
     },
     "execution_count": 497,
     "metadata": {},
     "output_type": "execute_result"
    }
   ],
   "source": [
    "d   = {'a':24,'g':52,'i':12,'k':33}\n",
    "sorted(d.items(),key = lambda x:x[1])"
   ]
  },
  {
   "cell_type": "markdown",
   "metadata": {},
   "source": [
    "26.一行代码实现1-100之和"
   ]
  },
  {
   "cell_type": "code",
   "execution_count": 498,
   "metadata": {},
   "outputs": [
    {
     "data": {
      "text/plain": [
       "4950"
      ]
     },
     "execution_count": 498,
     "metadata": {},
     "output_type": "execute_result"
    }
   ],
   "source": [
    "sum([x for x in range(100)])"
   ]
  },
  {
   "cell_type": "markdown",
   "metadata": {},
   "source": [
    "27.将字符串\"k:1|k1:2|k2:3|k3:4\"，处理成字典：{k:1， k1:2， ..."
   ]
  },
  {
   "cell_type": "code",
   "execution_count": 502,
   "metadata": {},
   "outputs": [
    {
     "data": {
      "text/plain": [
       "{'k': '1', 'k1': '2', 'k2': '3', 'k3': '4'}"
      ]
     },
     "execution_count": 502,
     "metadata": {},
     "output_type": "execute_result"
    }
   ],
   "source": [
    "str1 = \"k:1|k1:2|k2:3|k3:4\"\n",
    "def str2dict(str):\n",
    "    newdict = {}\n",
    "    items = str.split('|')\n",
    "    for item in items:\n",
    "        key,values =item.split(':')\n",
    "        newdict[key] = values\n",
    "    return newdict\n",
    "str2dict(str1)"
   ]
  }
 ],
 "metadata": {
  "kernelspec": {
   "display_name": "Python 2",
   "language": "python",
   "name": "python2"
  },
  "language_info": {
   "codemirror_mode": {
    "name": "ipython",
    "version": 2
   },
   "file_extension": ".py",
   "mimetype": "text/x-python",
   "name": "python",
   "nbconvert_exporter": "python",
   "pygments_lexer": "ipython2",
   "version": "2.7.9"
  }
 },
 "nbformat": 4,
 "nbformat_minor": 2
}
