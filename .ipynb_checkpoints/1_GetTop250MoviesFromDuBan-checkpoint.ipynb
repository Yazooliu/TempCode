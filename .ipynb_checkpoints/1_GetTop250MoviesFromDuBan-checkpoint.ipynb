{
 "cells": [
  {
   "cell_type": "code",
   "execution_count": null,
   "metadata": {},
   "outputs": [],
   "source": [
    "#-------------\n",
    "#  Purpose\n",
    "#     Get Movies Data from duban web\n",
    "#  Date\n",
    "#     2019 - 1- 19\n",
    "#--------------"
   ]
  },
  {
   "cell_type": "code",
   "execution_count": 1,
   "metadata": {},
   "outputs": [],
   "source": [
    "from bs4 import BeautifulSoup\n",
    "import re\n",
    "import requests\n",
    "\n",
    "def GetUrlFromWeb(url):\n",
    "    headers = {\n",
    "        'User-Agent': 'Mozilla/5.0 (Macintosh; Intel Mac OS X 10_11_2) AppleWebKit/537.36 (KHTML, like Gecko) Chrome/47.0.2526.80 Safari/537.36'\n",
    "    }\n",
    "    \n",
    "    URLData = requests.get(url,headers = headers).content\n",
    "    return URLData\n",
    "\n",
    "def ExtractDataFromHtml(url):\n",
    "    WebPageLink = 'http://movie.douban.com/top250/'\n",
    "    Titles     = []\n",
    "    RatingNums = []\n",
    "    Quotes     = []\n",
    "    soup      = BeautifulSoup(url,'lxml')\n",
    "    tag_ol    = soup.find('ol',attrs = {\"class\":\"grid_view\"})\n",
    "    for li in tag_ol.find_all('li'):\n",
    "        # movie's title\n",
    "        hd    = li.find('div',attrs =  {'class':'hd'})\n",
    "        movietitles = hd.find('span',attrs = {'class':'title'}).get_text()\n",
    "    \n",
    "        #movie's rating num  \n",
    "        bd    = li.find('div',attrs =  {'class':'bd'})  \n",
    "        ratingnum  = bd.find('span',attrs = {'class':'rating_num'}).get_text()      \n",
    "        Titles.append(movietitles)\n",
    "        RatingNums.append(ratingnum)\n",
    "        \n",
    "        #movie's comments/quote\n",
    "        quote  = bd.find('p',attrs = {'class':\"quote\"})\n",
    "        if quote:\n",
    "            Quotes.append(quote.get_text())\n",
    "        else:\n",
    "            Quotes.append(\"No comments\")\n",
    "    # next page avaiable url \n",
    "    nextpagetail  = soup.find('span',attrs = {\"class\":\"next\"}).find('a')\n",
    "    if nextpagetail:\n",
    "        return Titles,RatingNums,Quotes,WebPageLink + nextpagetail.get('href')\n",
    "    else: \n",
    "        return Titles,RatingNums,Quotes,None"
   ]
  },
  {
   "cell_type": "code",
   "execution_count": 2,
   "metadata": {},
   "outputs": [],
   "source": [
    "#----\n",
    "# inputs data \n",
    "from openpyxl import Workbook\n",
    "wb        = Workbook()\n",
    "wb_       = wb.active\n",
    "wb_.title   = \"Top250Movies\"\n",
    "filename    = \"Top250Movies.xlsx\"\n",
    "WebPageLink = 'http://movie.douban.com/top250/'\n",
    "TitlesIndex = []\n",
    "#----\n",
    "def main(URL):\n",
    "    Titles     = []\n",
    "    RatingNums = []\n",
    "    Quotes     = []\n",
    "    while URL:\n",
    "        URLData    = GetUrlFromWeb(URL)\n",
    "        Title,RatingNum,Quote,URL = ExtractDataFromHtml(URLData)\n",
    "        Titles     = Titles + Title\n",
    "        RatingNums = RatingNums + RatingNum\n",
    "        Quotes     = Quotes + Quote\n",
    "        \n",
    "    for (i,j,k) in zip(Titles,RatingNums,Quotes):\n",
    "        Titles_column     = 'A%s' %(Titles.index(i) + 1)       # column A \n",
    "        RatingNums_column = 'B%s' %(Titles.index(i) + 1)       # column B\n",
    "        Quotes_column     = 'C%s' %(Titles.index(i) + 1)       # column C\n",
    "        wb_[Titles_column]     = i\n",
    "        wb_[RatingNums_column] = j\n",
    "        wb_[Quotes_column]     = k\n",
    "        TitlesIndex.append(Titles_column)  # used to log column index \n",
    "    wb.save(filename = filename)           # wb = Workbook()\n",
    "    print \"Completed and Saved\""
   ]
  },
  {
   "cell_type": "code",
   "execution_count": 3,
   "metadata": {},
   "outputs": [
    {
     "name": "stdout",
     "output_type": "stream",
     "text": [
      "Completed and Saved\n"
     ]
    }
   ],
   "source": [
    "URL        = WebPageLink\n",
    "if __name__ == \"__main__\":\n",
    "    main(URL)"
   ]
  },
  {
   "cell_type": "code",
   "execution_count": null,
   "metadata": {},
   "outputs": [],
   "source": [
    "## 写入xlxs列索引\n",
    "print TitlesIndex "
   ]
  }
 ],
 "metadata": {
  "kernelspec": {
   "display_name": "Python 2",
   "language": "python",
   "name": "python2"
  },
  "language_info": {
   "codemirror_mode": {
    "name": "ipython",
    "version": 2
   },
   "file_extension": ".py",
   "mimetype": "text/x-python",
   "name": "python",
   "nbconvert_exporter": "python",
   "pygments_lexer": "ipython2",
   "version": "2.7.9"
  }
 },
 "nbformat": 4,
 "nbformat_minor": 2
}
