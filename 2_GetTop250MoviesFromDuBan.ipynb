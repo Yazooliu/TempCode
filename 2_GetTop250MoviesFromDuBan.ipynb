{
 "cells": [
  {
   "cell_type": "code",
   "execution_count": null,
   "metadata": {},
   "outputs": [],
   "source": [
    "#-------------\n",
    "#  Purpose\n",
    "#     Get Movies Data from duban web\n",
    "#  Date\n",
    "#     2019 - 1- 19\n",
    "#--------------"
   ]
  },
  {
   "cell_type": "code",
   "execution_count": 1,
   "metadata": {},
   "outputs": [],
   "source": [
    "from bs4 import BeautifulSoup\n",
    "import re\n",
    "import requests\n",
    "\n",
    "def GetUrlFromWeb(url):\n",
    "    headers = {\n",
    "        'User-Agent': 'Mozilla/5.0 (Macintosh; Intel Mac OS X 10_11_2) AppleWebKit/537.36 (KHTML, like Gecko) Chrome/47.0.2526.80 Safari/537.36'\n",
    "    }\n",
    "    \n",
    "    URLData = requests.get(url,headers = headers).content\n",
    "    return URLData\n",
    "\n",
    "def ExtractDataFromHtml(url):\n",
    "    WebPageLink = 'http://movie.douban.com/top250/'\n",
    "    Titles     = []\n",
    "    RatingNums = []\n",
    "    Quotes     = []\n",
    "    soup      = BeautifulSoup(url,'lxml')\n",
    "    tag_ol    = soup.find('ol',attrs = {\"class\":\"grid_view\"})\n",
    "    for li in tag_ol.find_all('li'):\n",
    "        # movie's title\n",
    "        hd    = li.find('div',attrs =  {'class':'hd'})\n",
    "        movietitles = hd.find('span',attrs = {'class':'title'}).get_text()\n",
    "    \n",
    "        #movie's rating num  \n",
    "        bd    = li.find('div',attrs =  {'class':'bd'})  \n",
    "        ratingnum  = bd.find('span',attrs = {'class':'rating_num'}).get_text()      \n",
    "        Titles.append(movietitles)\n",
    "        RatingNums.append(ratingnum)\n",
    "        \n",
    "        #movie's comments/quote\n",
    "        quote  = bd.find('p',attrs = {'class':\"quote\"})\n",
    "        if quote:\n",
    "            Quotes.append(quote.get_text())\n",
    "        else:\n",
    "            Quotes.append(\"No comments\")\n",
    "    # next page avaiable url \n",
    "    nextpagetail  = soup.find('span',attrs = {\"class\":\"next\"}).find('a')\n",
    "    if nextpagetail:\n",
    "        return Titles,RatingNums,Quotes,WebPageLink + nextpagetail.get('href')\n",
    "    else: \n",
    "        return Titles,RatingNums,Quotes,None"
   ]
  },
  {
   "cell_type": "code",
   "execution_count": 2,
   "metadata": {},
   "outputs": [],
   "source": [
    "#----\n",
    "# inputs data \n",
    "from openpyxl import Workbook\n",
    "wb        = Workbook()\n",
    "wb_       = wb.active\n",
    "wb_.title   = \"Top250Movies\"\n",
    "filename    = \"Top250Movies.xlsx\"\n",
    "WebPageLink = 'http://movie.douban.com/top250/'\n",
    "TitlesIndex = []\n",
    "#----\n",
    "def main(URL):\n",
    "    Titles     = []\n",
    "    RatingNums = []\n",
    "    Quotes     = []\n",
    "    while URL:\n",
    "        URLData    = GetUrlFromWeb(URL)\n",
    "        Title,RatingNum,Quote,URL = ExtractDataFromHtml(URLData)\n",
    "        Titles     = Titles + Title\n",
    "        RatingNums = RatingNums + RatingNum\n",
    "        Quotes     = Quotes + Quote\n",
    "        \n",
    "    for (i,j,k) in zip(Titles,RatingNums,Quotes):\n",
    "        Titles_column     = 'A%s' %(Titles.index(i) + 1)       # column A \n",
    "        RatingNums_column = 'B%s' %(Titles.index(i) + 1)       # column B\n",
    "        Quotes_column     = 'C%s' %(Titles.index(i) + 1)       # column C\n",
    "        wb_[Titles_column]     = i\n",
    "        wb_[RatingNums_column] = j\n",
    "        wb_[Quotes_column]     = k\n",
    "        TitlesIndex.append(Titles_column)  # used to log column index \n",
    "    wb.save(filename = filename)           # wb = Workbook()\n",
    "    print \"Completed and Saved\""
   ]
  },
  {
   "cell_type": "code",
   "execution_count": 3,
   "metadata": {},
   "outputs": [
    {
     "name": "stdout",
     "output_type": "stream",
     "text": [
      "Completed and Saved\n"
     ]
    }
   ],
   "source": [
    "URL        = WebPageLink\n",
    "if __name__ == \"__main__\":\n",
    "    main(URL)"
   ]
  },
  {
   "cell_type": "code",
   "execution_count": 4,
   "metadata": {},
   "outputs": [
    {
     "name": "stdout",
     "output_type": "stream",
     "text": [
      "['A1', 'A2', 'A3', 'A4', 'A5', 'A6', 'A7', 'A8', 'A9', 'A10', 'A11', 'A12', 'A13', 'A14', 'A15', 'A16', 'A17', 'A18', 'A19', 'A20', 'A21', 'A22', 'A23', 'A24', 'A25', 'A26', 'A27', 'A28', 'A29', 'A30', 'A31', 'A32', 'A33', 'A34', 'A35', 'A36', 'A37', 'A38', 'A39', 'A40', 'A41', 'A42', 'A43', 'A44', 'A45', 'A46', 'A47', 'A48', 'A49', 'A50', 'A51', 'A52', 'A53', 'A54', 'A55', 'A56', 'A57', 'A58', 'A59', 'A60', 'A61', 'A62', 'A63', 'A64', 'A65', 'A66', 'A67', 'A68', 'A69', 'A70', 'A71', 'A72', 'A73', 'A74', 'A75', 'A76', 'A77', 'A78', 'A79', 'A80', 'A81', 'A82', 'A83', 'A84', 'A85', 'A86', 'A87', 'A88', 'A89', 'A90', 'A91', 'A92', 'A93', 'A94', 'A95', 'A96', 'A97', 'A98', 'A99', 'A100', 'A101', 'A102', 'A103', 'A104', 'A105', 'A106', 'A107', 'A108', 'A109', 'A110', 'A111', 'A112', 'A113', 'A114', 'A115', 'A116', 'A117', 'A118', 'A119', 'A120', 'A121', 'A122', 'A123', 'A124', 'A125', 'A126', 'A127', 'A128', 'A129', 'A130', 'A131', 'A132', 'A133', 'A134', 'A135', 'A136', 'A137', 'A138', 'A139', 'A140', 'A141', 'A142', 'A143', 'A144', 'A145', 'A146', 'A147', 'A148', 'A149', 'A150', 'A151', 'A152', 'A153', 'A154', 'A155', 'A156', 'A157', 'A158', 'A159', 'A160', 'A161', 'A162', 'A163', 'A164', 'A165', 'A166', 'A167', 'A168', 'A169', 'A170', 'A171', 'A172', 'A173', 'A174', 'A175', 'A176', 'A177', 'A178', 'A179', 'A180', 'A181', 'A182', 'A183', 'A184', 'A185', 'A186', 'A187', 'A188', 'A189', 'A190', 'A191', 'A192', 'A193', 'A194', 'A195', 'A196', 'A197', 'A198', 'A199', 'A200', 'A201', 'A202', 'A203', 'A204', 'A205', 'A206', 'A207', 'A208', 'A209', 'A210', 'A211', 'A212', 'A213', 'A214', 'A215', 'A216', 'A217', 'A218', 'A219', 'A220', 'A221', 'A222', 'A223', 'A224', 'A225', 'A226', 'A227', 'A228', 'A229', 'A230', 'A231', 'A232', 'A233', 'A234', 'A235', 'A236', 'A237', 'A238', 'A239', 'A240', 'A241', 'A242', 'A243', 'A244', 'A245', 'A246', 'A247', 'A248', 'A249', 'A250']\n"
     ]
    }
   ],
   "source": [
    "## 写入xlxs列索引\n",
    "print TitlesIndex "
   ]
  },
  {
   "cell_type": "code",
   "execution_count": null,
   "metadata": {},
   "outputs": [],
   "source": []
  }
 ],
 "metadata": {
  "kernelspec": {
   "display_name": "Python 2",
   "language": "python",
   "name": "python2"
  },
  "language_info": {
   "codemirror_mode": {
    "name": "ipython",
    "version": 2
   },
   "file_extension": ".py",
   "mimetype": "text/x-python",
   "name": "python",
   "nbconvert_exporter": "python",
   "pygments_lexer": "ipython2",
   "version": "2.7.9"
  }
 },
 "nbformat": 4,
 "nbformat_minor": 2
}
