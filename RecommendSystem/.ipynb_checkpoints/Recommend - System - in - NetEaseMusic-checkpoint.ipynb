{
 "cells": [
  {
   "cell_type": "code",
   "execution_count": null,
   "metadata": {},
   "outputs": [],
   "source": [
    "#---------\n",
    "#  Recommend System in NetEase \n",
    "# \n",
    "#  Modify History : 2019 - Jan - 22 \n",
    "#  Platform: Win7 + Python2 \n",
    "#---------"
   ]
  },
  {
   "cell_type": "code",
   "execution_count": 5,
   "metadata": {},
   "outputs": [],
   "source": [
    "#coding:urf-8\n",
    "import json \n",
    "import sys\n",
    "\n",
    "# 从Json文件中提取特定格式的文本数据 #\n",
    "def parse_song_inline(in_line):\n",
    "    loaded_data = json.load(in_line)\n",
    "    name        = loaded_data['result']['name']  # 名字\n",
    "    tags        = \",\".join(loaded_data['result']['tags'])# 标签\n",
    "    subscribed_count = loaded_data['result']['subscribedCount'] #  收藏数目\n",
    "    \n",
    "    if subscribed_count <= 100:\n",
    "        print \"subscribed_count is less than 100, please check data ...\"\n",
    "        return False\n",
    "    playlist_id = loaded_data['result']['id']  # 歌单ID\n",
    "    tracks      =  loaded_data['result']['tracks'] # \"tracks\": [{歌曲1},{歌曲2}, ...]\n",
    "    \n",
    "    song_infrocontent = ''\n",
    "    for track in tracks:\n",
    "        try: # 歌曲信息中包含: => 歌单ID:::歌曲名字:::歌手名字:::歌曲流行度\n",
    "            song_infrocontent +=   \"\\t\" + \":::\".join([str(track['id']),track['name'],track['artists'][0]['name'],str(track['popularity'])])\n",
    "        except Exception,e:\n",
    "            print \"Exception information\",e\n",
    "            print track\n",
    "            continue\n",
    "    # 获取如下格式的文本信息\n",
    "    # 格式：歌曲名字##歌曲标签##歌单ID##歌曲收藏数目 歌曲信息\n",
    "    GotText =  name+\"##\"+tags+\"##\"+str(playlist_id)+'##'+str(subscribed_count)+song_infrocontent\n",
    "    return GotText\n",
    "\n",
    "def parse_files(input_file,out_file):\n",
    "    outdata  = os.open(out_file,'w')\n",
    "    for line in input_file:\n",
    "        GotText = parse_song_inline(input_file)\n",
    "        if GotText:\n",
    "            outdata.write(GotText.encode('utf-8').strip()+\"\\n\")\n",
    "    outdata.close()"
   ]
  },
  {
   "cell_type": "code",
   "execution_count": null,
   "metadata": {},
   "outputs": [],
   "source": [
    "%time parse_files(\"./RawData/playlistdetail.all.json\",\"./InternalData/1_music_playlist_info.txt\")"
   ]
  }
 ],
 "metadata": {
  "kernelspec": {
   "display_name": "Python 2",
   "language": "python",
   "name": "python2"
  },
  "language_info": {
   "codemirror_mode": {
    "name": "ipython",
    "version": 2
   },
   "file_extension": ".py",
   "mimetype": "text/x-python",
   "name": "python",
   "nbconvert_exporter": "python",
   "pygments_lexer": "ipython2",
   "version": "2.7.15"
  }
 },
 "nbformat": 4,
 "nbformat_minor": 2
}
